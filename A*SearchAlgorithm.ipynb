{
 "cells": [
  {
   "cell_type": "code",
   "execution_count": 10,
   "metadata": {},
   "outputs": [],
   "source": [
    "import math"
   ]
  },
  {
   "cell_type": "code",
   "execution_count": 11,
   "metadata": {},
   "outputs": [],
   "source": [
    "\"\"\"\n",
    "SquareGrid class represents agent's environment\n",
    "0 - cell is traversable\n",
    "1 - cell is blocked\n",
    "\"\"\"\n",
    "class SquareGrid:\n",
    "    #set width, height and fill the grid with zeroes (fully traversable grid)\n",
    "    def __init__(self, width, height):\n",
    "        self.width = width\n",
    "        self.height = height\n",
    "        self.grid = [[0 for _ in range(width)] for _ in range(height)]\n",
    "    \n",
    "    #fill the grid given the input_map, e.g. the string with '#' standing for blocked cells\n",
    "    def get_map(self, input_map):\n",
    "        for i in range(self.height):\n",
    "            for j in range(self.width):\n",
    "                if input_map[i * self.width + j] == '#':\n",
    "                    self.grid[i][j] = 1\n",
    "    \n",
    "    #out of bounds check\n",
    "    def in_bounds(self, i, j):\n",
    "        return 0 <= j < self.width and 0 <= i < self.height\n",
    "    \n",
    "    #blocked cell check\n",
    "    def traversable(self, i, j):\n",
    "        return not self.grid[i][j]\n",
    "    \n",
    "    \n",
    "    def neighbors(self, i, j, diagonal=False, cutcorners=False, squeeze=False):\n",
    "        \"\"\"\n",
    "        function, that returns neighbor nodes to the current node (i, j) according to the following parameters:\n",
    "        diagonal: True, if diagonal moves are allowed\n",
    "        cutcorners: True, if the agent is allowed to cut corners (only valid id diagoanl is True)\n",
    "        squeeze: True, if the is also allowed to squeeze between obstacles (only valid when cutcornres is True)\n",
    "        \"\"\"\n",
    "        neighbors = []\n",
    "        #very primitive code (hard-code). works for cardinal moves only!\n",
    "        if self.in_bounds(i, j - 1) and self.traversable(i, j - 1):\n",
    "            neighbors.append((i, j - 1)) #move left\n",
    "        if self.in_bounds(i - 1, j) and self.traversable(i - 1, j):\n",
    "            neighbors.append((i - 1, j)) #move up\n",
    "            \n",
    "        if self.in_bounds(i, j + 1) and self.traversable(i, j + 1):\n",
    "            neighbors.append((i, j + 1)) #move right\n",
    "            \n",
    "        if self.in_bounds(i + 1, j) and self.traversable(i + 1, j):\n",
    "            neighbors.append((i + 1, j)) #move down\n",
    "        \n",
    "        return neighbors\n",
    "    \n",
    "        #HOMEWORK\n",
    "        #REWRITE THE CODE to handle all the parameters (diagonal, curcorners, squeeze) and try to get read of the hard-code hooks.\n",
    "        \n"
   ]
  },
  {
   "cell_type": "code",
   "execution_count": 12,
   "metadata": {
    "scrolled": true
   },
   "outputs": [
    {
     "name": "stdout",
     "output_type": "stream",
     "text": [
      "0 0 0 0 0 0 0 0 0 0 0 0 0 0 0 0 0 0 0 0 0 1 1 0 0 0 0 0 0 0\n",
      "0 0 0 0 0 0 0 0 0 0 0 0 0 0 0 0 0 0 0 0 0 1 1 0 0 0 0 0 0 0\n",
      "0 0 0 0 0 0 0 0 0 0 0 0 0 0 0 0 0 0 0 0 0 1 1 0 0 0 0 0 0 0\n",
      "0 0 0 1 1 0 0 0 0 0 0 0 0 0 0 0 0 0 0 0 0 1 1 0 0 0 0 0 0 0\n",
      "0 0 0 1 1 0 0 0 0 0 0 0 0 1 1 0 0 0 0 0 0 1 1 0 0 0 0 0 0 0\n",
      "0 0 0 1 1 0 0 0 0 0 0 0 0 1 1 0 0 0 0 0 0 1 1 1 1 1 0 0 0 0\n",
      "0 0 0 1 1 0 0 0 0 0 0 0 0 1 1 0 0 0 0 0 0 1 1 1 1 1 0 0 0 0\n",
      "0 0 0 1 1 0 0 0 0 0 0 0 0 1 1 0 0 0 0 0 0 0 0 0 0 0 0 0 0 0\n",
      "0 0 0 1 1 0 0 0 0 0 0 0 0 1 1 0 0 0 0 0 0 0 0 0 0 0 0 0 0 0\n",
      "0 0 0 1 1 0 0 0 0 0 0 0 0 1 1 0 0 0 0 0 0 0 0 0 0 0 0 0 0 0\n",
      "0 0 0 1 1 0 0 0 0 0 0 0 0 1 1 0 0 0 0 0 0 0 0 0 0 0 0 0 0 0\n",
      "0 0 0 1 1 0 0 0 0 0 0 0 0 1 1 0 0 0 0 0 0 0 0 0 0 0 0 0 0 0\n",
      "0 0 0 0 0 0 0 0 0 0 0 0 0 1 1 0 0 0 0 0 0 0 0 0 0 0 0 0 0 0\n",
      "0 0 0 0 0 0 0 0 0 0 0 0 0 1 1 0 0 0 0 0 0 0 0 0 0 0 0 0 0 0\n",
      "0 0 0 0 0 0 0 0 0 0 0 0 0 0 0 0 0 0 0 0 0 0 0 0 0 0 0 0 0 0\n"
     ]
    }
   ],
   "source": [
    "#That's how we represent the map and convert it to SquareGrid object\n",
    "test_map = '''\n",
    ". . . . . . . . . . . . . . . . . . . . . # # . . . . . . .  \n",
    ". . . . . . . . . . . . . c . . . . . . . # # . . . . . . . \n",
    ". . . . . . . . . . . . . c . . . . . . . # # . . . . . . . \n",
    ". . . # # . . . . . . . . c . . . . . . . # # . . . . . . . \n",
    ". . . # # . . . . . . . . # # . . . . . . # # . . . . . . . \n",
    ". . . # # . . . . . . . . # # . . . . . . # # # # # . . . . \n",
    ". . . # # . . . . . . . . # # . . . . . . # # # # # . . . . \n",
    ". . . # # . . . . . . . . # # . . . . . . . . . . . . . . . \n",
    ". . . # # . . . . . . . . # # . . . . . . . . . . . . . . . \n",
    ". . . # # . . . . . . . . # # . . . . . . . . . . . . . . . \n",
    ". . . # # . . . . . . . . # # . . . . . . . . . . . . . . . \n",
    ". . . # # . . . . . . . . # # . . . . . . . . . . . . . . . \n",
    ". . . . . . . . . . . . . # # . . . . . . . . . . . . . . . \n",
    ". . . . . . . . . . . . . # # . . . . . . . . . . . . . . .\n",
    ". . . . . . . . . . . . . c . . . . . . . . . . . . . . . .\n",
    "\n",
    "'''\n",
    "\n",
    "#define the SquareGrid object and fill it with a given map\n",
    "test_grid = SquareGrid(30, 15) #make sure the dimensions match the drawn map\n",
    "test_grid.get_map(test_map.translate({ ord(c): None for c in ' \\n\\t\\r' })) #remove all whitespaces, tabs etc. \n",
    "\n",
    "#validate that map is converted correctly to the SquareGrid object\n",
    "for gr in test_grid.grid:\n",
    "    print(*gr)"
   ]
  },
  {
   "cell_type": "code",
   "execution_count": 13,
   "metadata": {},
   "outputs": [],
   "source": [
    "class Node:\n",
    "    \"\"\"\n",
    "    Node class represents a search node\n",
    "    i, j: coordinates of corresponding grid element\n",
    "    g: g-value of the node\n",
    "    h: h-value of the node\n",
    "    F: f-value of the node\n",
    "    parent: pointer to the parent-node \n",
    "    \"\"\"\n",
    "    def __init__(self, i, j, g=math.inf, h=math.inf, F=-1, parent=None):\n",
    "        self.i = i\n",
    "        self.j = j\n",
    "        self.g = g\n",
    "        if F==-1:\n",
    "            self.F = self.g + h\n",
    "        else:\n",
    "            self.F = F        \n",
    "        self.parent = parent"
   ]
  },
  {
   "cell_type": "markdown",
   "metadata": {},
   "source": [
    "#### Now let's define a class for our OPEN list\n",
    "Let's start withis a very primitive, straight-forward, non-efficent way to implement OPEN list."
   ]
  },
  {
   "cell_type": "code",
   "execution_count": 14,
   "metadata": {},
   "outputs": [],
   "source": [
    "class OpenListBasic:\n",
    "    def __init__(self):\n",
    "        self.elements = []\n",
    "    \n",
    "    #empty should infrom whether the OPEN is exhausted or not (in case it is - the search main loop should be interrupted)\n",
    "    def empty(self):\n",
    "        if len(self.elements) != 0:\n",
    "            return False\n",
    "        return True\n",
    "    \n",
    "    #get is the method that finds the best node (the one with the lowest  f-value),removes it from OPEN and returns it\n",
    "    def get(self):\n",
    "        best_F = math.inf\n",
    "        best_coord = 0\n",
    "        for i in range(len(self.elements)):\n",
    "            if self.elements[i].F < best_F:\n",
    "                best_coord = i\n",
    "                best_F = self.elements[i].F\n",
    "                \n",
    "        # after we found the element with the lowest F value, we need to delete found element from OPEN list\n",
    "        best = self.elements.pop(best_coord)\n",
    "        # and return it\n",
    "        return best\n",
    "    \n",
    "    #put is the method that puts (e.g. inserts or updates) the node to OPEN\n",
    "    #When implementing it do not forget to handle all the possible situations:\n",
    "    #- node already in OPEN but the new f-value is better;\n",
    "    #- node already in OPEN but the new f-value is worse;\n",
    "    #- node is not in OPEN.\n",
    "    def put(self, item):\n",
    "        for i in range(len(self.elements)):\n",
    "            if self.elements[i].i == item.i and self.elements[i].j == item.j:\n",
    "                if self.elements[i].F > item.F:\n",
    "                    self.elements[i].F = item.F\n",
    "                    return\n",
    "                else:\n",
    "                    return\n",
    "                \n",
    "        \n",
    "        self.elements.append(item)\n",
    "        return"
   ]
  },
  {
   "cell_type": "markdown",
   "metadata": {},
   "source": [
    "Now let's implement more complicated Open List where all elements are sorted by F value"
   ]
  },
  {
   "cell_type": "code",
   "execution_count": 15,
   "metadata": {},
   "outputs": [],
   "source": [
    "class OpenListSorted:\n",
    "    def __init__(self):\n",
    "        self.elements = []\n",
    "    \n",
    "    #empty should infrom whether the OPEN is exhausted or not (in case it is - the search main loop should be interrupted)\n",
    "    def empty(self):\n",
    "        if len(self.elements) != 0:\n",
    "            return False\n",
    "        return True\n",
    "    \n",
    "    #get is the method that finds the best node (the one with the lowest  f-value),\n",
    "    # removes it from OPEN and returns it\n",
    "    # in the sorted list we just need to take the first one\n",
    "    def get(self):\n",
    "        return self.elements.pop(0)\n",
    "    \n",
    "    #put is the method that puts (e.g. inserts or updates) the node to OPEN\n",
    "    #When implementing it do not forget to handle all the possible situations:\n",
    "    #- node already in OPEN but the new f-value is better;\n",
    "    #- node already in OPEN but the new f-value is worse;\n",
    "    #- node is not in OPEN.\n",
    "    def put(self, item):\n",
    "        position = 0\n",
    "        position_found = False\n",
    "        \n",
    "        for i in range(len(self.elements)):\n",
    "            # we will be looking for the right place for current element and \n",
    "            # check if the node is in OPEN at the same time\n",
    "            if not position_found and self.elements[item.i][i].F >= item.F:\n",
    "                position = i\n",
    "                position_found = True\n",
    "                \n",
    "            if self.elements[i].i == item.i and self.elements[i].j == item.j:\n",
    "                if item.F > self.elements[i].F:\n",
    "                    return\n",
    "                elif position == i:\n",
    "                    self.elements[i] = item\n",
    "                    return\n",
    "                else:\n",
    "                    self.elements[i].pop(position)\n",
    "                    break\n",
    "                \n",
    "        self.elements.insert(position, item)\n",
    "        return"
   ]
  },
  {
   "cell_type": "markdown",
   "metadata": {},
   "source": [
    "Previous implementation is focused on faster access to element with the lowest F-value, but in order to check wheter element is in OPEN or not we have to look at every element in the list\n",
    "\n",
    "Let's fix that"
   ]
  },
  {
   "cell_type": "code",
   "execution_count": 87,
   "metadata": {},
   "outputs": [],
   "source": [
    "class OpenList:\n",
    "    \"\"\"\n",
    "    This OpenList class represents a struct for efficient OPEN list representation\n",
    "    \"\"\"\n",
    "    def __init__(self, height):\n",
    "        self.elements = [[] for _ in range(height)]\n",
    "        self.size = 0\n",
    "        \n",
    "    #empty should infrom whether the OPEN is exhausted or not (in case it is - the search main loop should be interrupted)\n",
    "    def empty(self):\n",
    "        for elem in self.elements:\n",
    "            if len(elem) != 0:\n",
    "                return False\n",
    "        return True\n",
    "    \n",
    "    \n",
    "    #get is the method that finds the best node (the one with the lowest  f-value),removes it from OPEN and returns it\n",
    "    def get(self):\n",
    "        best_F = math.inf\n",
    "        best_coord = 0\n",
    "        for coord in range(len(self.elements)):\n",
    "            if len(self.elements[coord]) == 0:\n",
    "                continue\n",
    "            if self.elements[coord][0].F < best_F:\n",
    "                best_coord = coord\n",
    "                best_F = self.elements[coord][0].F\n",
    "                \n",
    "        # after we found the element with the lowest F value, we need to delete found element from OPEN list\n",
    "        best = self.elements[best_coord].pop(0)\n",
    "        # and return it\n",
    "        return best\n",
    "    \n",
    "    #put is the method that puts (e.g. inserts or updates) the node to OPEN\n",
    "    #When implementing it do not forget to handle all the possible situations:\n",
    "    #- node already in OPEN but the new f-value is better;\n",
    "    #- node already in OPEN but the new f-value is worse;\n",
    "    #- node is not in OPEN.\n",
    "    def put(self, item):\n",
    "        if len(self.elements[item.i]) == 0:\n",
    "            self.elements[item.i].append(item)\n",
    "            self.size += 1\n",
    "            return\n",
    "        position = 0\n",
    "        position_found = False\n",
    "        \n",
    "        #find the position on which to insert our new element\n",
    "        # meanwhile you should also look for the node with the same coordinates in the OPEN already\n",
    "        \n",
    "        for i in range(len(self.elements[item.i])):\n",
    "            if not position_found and self.elements[item.i][i].F >= item.F:\n",
    "                position = i\n",
    "                position_found = True\n",
    "                    \n",
    "            if self.elements[item.i][i].j == item.j:\n",
    "                if item.F > self.elements[item.i][i].F:\n",
    "                    return\n",
    "                elif position == i:\n",
    "                    self.elements[item.i][i].F = item.F\n",
    "                    self.elements[item.i][i].g = item.g\n",
    "                    self.elements[item.i][i].parent = item.parent\n",
    "                    return\n",
    "                else:\n",
    "                    self.elements[item.i].pop(position)\n",
    "                    self.size -= 1\n",
    "                    break\n",
    "                    \n",
    "        self.size += 1           \n",
    "        self.elements[item.i].insert(position, item)\n",
    "        return"
   ]
  },
  {
   "cell_type": "markdown",
   "metadata": {},
   "source": [
    "#### Now let's define a class for our CLOSED list\n",
    "\n",
    "It also can be really simple and we ca just use list for it"
   ]
  },
  {
   "cell_type": "code",
   "execution_count": 88,
   "metadata": {},
   "outputs": [],
   "source": [
    "class ClosedListBasic:\n",
    "    def __init__(self, height):\n",
    "        self.elements = []\n",
    "        \n",
    "    def length(self):\n",
    "        return len(self.elements)\n",
    "        \n",
    "    def exists(self, item):\n",
    "        return item  in self.elements\n",
    "    \n",
    "    def put(self, item):\n",
    "        self.elements.append(item)"
   ]
  },
  {
   "cell_type": "markdown",
   "metadata": {},
   "source": [
    "And we can also make Closed list more efficient"
   ]
  },
  {
   "cell_type": "code",
   "execution_count": 89,
   "metadata": {},
   "outputs": [],
   "source": [
    "class ClosedList:\n",
    "    def __init__(self, width):\n",
    "        self.elements = dict()\n",
    "        self.width = width\n",
    "        \n",
    "    def length(self):\n",
    "        return len(self.elements)\n",
    "        \n",
    "    def exists(self, item):\n",
    "        return item.i * self.width + item.j in self.elements\n",
    "    \n",
    "    def put(self, item):\n",
    "        self.elements[item.i * self.width + item.j] = item"
   ]
  },
  {
   "cell_type": "markdown",
   "metadata": {},
   "source": [
    "### Heuristics for grid maps\n",
    "\n",
    "#### Euclidean distance\n",
    "\n",
    "Straight line distance is the most intuitive thing to think of as it is the true shortest distance on a plane (thus 100% admissable). Calculation involves taking the square root (so it's a \"slow\" heuristic). Moreover this distance is not accurate for grid-worlds in many cases as the agent is limited to cardinal and diagonal moves only."
   ]
  },
  {
   "cell_type": "code",
   "execution_count": 90,
   "metadata": {},
   "outputs": [],
   "source": [
    "def euclidean_heuristic(a_i, a_j, b_i, b_j):\n",
    "    dx = abs(a_i - b_i)\n",
    "    dy = abs(a_j - b_j)\n",
    "    return math.sqrt(dx * dx + dy * dy)"
   ]
  },
  {
   "cell_type": "markdown",
   "metadata": {},
   "source": [
    "#### Manhattan distance\n",
    "\n",
    "More accurate heuristic when cardinal moves are allowed. It is not an admissable heuristic if diagonal moves are allowed as well."
   ]
  },
  {
   "cell_type": "code",
   "execution_count": 91,
   "metadata": {},
   "outputs": [],
   "source": [
    "def manhattan_distance(a_i, a_j, b_i, b_j):\n",
    "    #HOMEWORK\n",
    "    #REWRITE THE CODE (it's Euclidean distance now)\n",
    "    dx = abs(a_i - b_i)\n",
    "    dy = abs(a_j - b_j)\n",
    "    return math.sqrt(dx * dx + dy * dy)"
   ]
  },
  {
   "cell_type": "markdown",
   "metadata": {},
   "source": [
    "#### Diagonal distance\n",
    "\n",
    "More accurate heuristic when diagonal moves are allowed."
   ]
  },
  {
   "cell_type": "code",
   "execution_count": 92,
   "metadata": {},
   "outputs": [],
   "source": [
    "def diagonal_heuristic(a_i, a_j, b_i, b_j):\n",
    "    #HOMEWORK\n",
    "    #REWRITE THE CODE (it's Euclidean distance now)\n",
    "    dx = abs(a_i - b_i)\n",
    "    dy = abs(a_j - b_j)\n",
    "    return math.sqrt(dx * dx + dy * dy)"
   ]
  },
  {
   "cell_type": "markdown",
   "metadata": {},
   "source": [
    "__Let's start with A*__"
   ]
  },
  {
   "cell_type": "code",
   "execution_count": 93,
   "metadata": {},
   "outputs": [],
   "source": [
    "def calculate_heuristic(a_i, a_j, goal_i, goal_j, heuristic_type='euclid', alpha=1):\n",
    "    if heuristic_type == 'euclidean':\n",
    "        return euclidean_heuristic(a_i, a_j, goal_i, goal_j)\n",
    "    if heuristic_type == 'octile':\n",
    "        return diagonal_heuristic(a_i, a_j, goal_i, goal_j)\n",
    "    if heuristic_type == 'manhattan':\n",
    "        return manhattan_heuristic(a_i, a_j, goal_i, goal_j) \n",
    "    \n",
    "def calculate_cost(a_i, a_j, b_i, b_j):\n",
    "    return math.sqrt(abs(a_i - b_i) * abs(a_i - b_i) + abs(a_j - b_j) * abs(a_j - b_j))\n",
    "\n",
    "\n",
    "def search(grid, start_i, start_j, goal_i, goal_j,\n",
    "           heuristic_type='euclidean',\n",
    "           heuristic_weight=1,\n",
    "           diagonal=False, \n",
    "           cutcorners=False, \n",
    "           squeeze=False):\n",
    "    \n",
    "    OPEN = OpenList(grid.height)\n",
    "    #OPEN = OpenListBasic()\n",
    "    start_node = Node(start_i, start_j, 0, \n",
    "                      calculate_heuristic(start_i, start_j, goal_i, goal_j, heuristic_type))\n",
    "    OPEN.put(start_node)\n",
    "    CLOSE = ClosedList(grid.width)\n",
    "    \n",
    "    while not OPEN.empty():\n",
    "        current = OPEN.get() #retrieve the best search node from OPEN\n",
    "        CLOSE.put(current) #put the node to CLOSE\n",
    "        \n",
    "        if current.i == goal_i and current.j == goal_j:\n",
    "            print(\"Path has been found!\")\n",
    "            return current, CLOSE\n",
    "        \n",
    "        for (i, j) in grid.neighbors(current.i, current.j):\n",
    "            if not CLOSE.exists(Node(i, j)):\n",
    "                g_cur = current.g + calculate_cost(current.i, current.j, i, j)\n",
    "                h_cur = calculate_heuristic(i, j, goal_i, goal_j, heuristic_type)\n",
    "                f_cur = g_cur + heuristic_weight * h_cur\n",
    "                new_node = Node(i, j, g_cur, h_cur, f_cur, current)\n",
    "                OPEN.put(new_node)\n",
    "                \n",
    "    print(\"Path NOT found\")\n",
    "    return current, CLOSE"
   ]
  },
  {
   "cell_type": "code",
   "execution_count": 94,
   "metadata": {},
   "outputs": [],
   "source": [
    "input_map = '''\n",
    ". . . . . . . . . . . . . . . . . . . . . # # . . . . . . .  \n",
    ". . . . . . . . . . . . . c . . . . . . . # # . . . . . . . \n",
    ". . . . . . . . . . . . . c . . . . . . . # # . . . . . . . \n",
    ". . . # # . . . . . . . . c . . . . . . . # # . . . . . . . \n",
    ". . . # # . . . . . . . . # # . . . . . . # # . . . . . . . \n",
    ". . . # # . . . . . . . . # # . . . . . . # # # # # . . . . \n",
    ". . . # # . . . . . . . . # # . . . . . . # # # # # . . . . \n",
    ". . . # # . . . . . . . . # # . . . . . . . . . . . . . . . \n",
    ". . . # # . . . . . . . . # # . . . . . . . . . . . . . . . \n",
    ". . . # # . . . . . . . . # # . . . . . . . . . . . . . . . \n",
    ". . . # # . . . . . . . . # # . . . . . . . . . . . . . . . \n",
    ". . . # # . . . . . . . . # # . . . . . . . . . . . . . . . \n",
    ". . . . . . . . . . . . . # # . . . . . . . . . . . . . . . \n",
    ". . . . . . . . . . . . . # # . . . . . . . . . . . . . . .\n",
    ". . . . . . . . . . . . . c . . . . . . . . . . . . . . . .\n",
    "\n",
    "'''"
   ]
  },
  {
   "cell_type": "code",
   "execution_count": 95,
   "metadata": {},
   "outputs": [
    {
     "name": "stdout",
     "output_type": "stream",
     "text": [
      "Path has been found!\n",
      "CPU times: user 2.52 ms, sys: 70 µs, total: 2.59 ms\n",
      "Wall time: 2.55 ms\n"
     ]
    }
   ],
   "source": [
    "%%time\n",
    "\n",
    "g = SquareGrid(30, 15)\n",
    "g.get_map(input_map.translate({ ord(c):None for c in ' \\n\\t\\r' }))\n",
    "goal, CLOSE = search(g, 7, 7, 14, 29)"
   ]
  },
  {
   "cell_type": "code",
   "execution_count": 96,
   "metadata": {},
   "outputs": [
    {
     "name": "stdout",
     "output_type": "stream",
     "text": [
      "Path's lenght (largest g-value in case path NOT found): 29.0\n",
      "Number of steps: 83\n"
     ]
    }
   ],
   "source": [
    "#some valuable info\n",
    "print(\"Path's lenght (largest g-value in case path NOT found):\", goal.g)\n",
    "print(\"Number of steps:\", CLOSE.length())"
   ]
  },
  {
   "cell_type": "code",
   "execution_count": 97,
   "metadata": {},
   "outputs": [
    {
     "name": "stdout",
     "output_type": "stream",
     "text": [
      "Found path: (7, 7) (7, 8) (8, 8) (9, 8) (10, 8) (11, 8) (12, 8) (13, 8) (13, 9) (13, 10) (13, 11) (13, 12) (14, 12) (14, 13) (14, 14) (14, 15) (14, 16) (14, 17) (14, 18) (14, 19) (14, 20) (14, 21) (14, 22) (14, 23) (14, 24) (14, 25) (14, 26) (14, 27) (14, 28) (14, 29)\n"
     ]
    }
   ],
   "source": [
    "def make_path(goal):\n",
    "    current = goal\n",
    "    path = []\n",
    "    while current.parent:\n",
    "        path.append((current.i, current.j))\n",
    "        current = current.parent;\n",
    "    path.append((current.i, current.j))\n",
    "    return path[::-1]\n",
    "\n",
    "path = make_path(goal)\n",
    "print(\"Found path:\", *path)"
   ]
  },
  {
   "cell_type": "code",
   "execution_count": 98,
   "metadata": {},
   "outputs": [
    {
     "name": "stdout",
     "output_type": "stream",
     "text": [
      "0 0 0 0 0 0 0 0 0 0 0 0 0 0 0 0 0 0 0 0 0 1 1 0 0 0 0 0 0 0\n",
      "0 0 0 0 0 0 0 0 0 0 0 0 0 0 0 0 0 0 0 0 0 1 1 0 0 0 0 0 0 0\n",
      "0 0 0 0 0 0 0 0 0 0 0 0 0 0 0 0 0 0 0 0 0 1 1 0 0 0 0 0 0 0\n",
      "0 0 0 1 1 0 0 0 0 0 0 0 0 0 0 0 0 0 0 0 0 1 1 0 0 0 0 0 0 0\n",
      "0 0 0 1 1 0 0 0 0 0 0 0 0 1 1 0 0 0 0 0 0 1 1 0 0 0 0 0 0 0\n",
      "0 0 0 1 1 0 0 0 0 0 0 0 0 1 1 0 0 0 0 0 0 1 1 1 1 1 0 0 0 0\n",
      "0 0 0 1 1 0 0 0 0 0 0 0 0 1 1 0 0 0 0 0 0 1 1 1 1 1 0 0 0 0\n",
      "0 0 0 1 1 0 0 * * 0 0 0 0 1 1 0 0 0 0 0 0 0 0 0 0 0 0 0 0 0\n",
      "0 0 0 1 1 0 0 0 * 0 0 0 0 1 1 0 0 0 0 0 0 0 0 0 0 0 0 0 0 0\n",
      "0 0 0 1 1 0 0 0 * 0 0 0 0 1 1 0 0 0 0 0 0 0 0 0 0 0 0 0 0 0\n",
      "0 0 0 1 1 0 0 0 * 0 0 0 0 1 1 0 0 0 0 0 0 0 0 0 0 0 0 0 0 0\n",
      "0 0 0 1 1 0 0 0 * 0 0 0 0 1 1 0 0 0 0 0 0 0 0 0 0 0 0 0 0 0\n",
      "0 0 0 0 0 0 0 0 * 0 0 0 0 1 1 0 0 0 0 0 0 0 0 0 0 0 0 0 0 0\n",
      "0 0 0 0 0 0 0 0 * * * * * 1 1 0 0 0 0 0 0 0 0 0 0 0 0 0 0 0\n",
      "0 0 0 0 0 0 0 0 0 0 0 0 * * * * * * * * * * * * * * * * * *\n"
     ]
    }
   ],
   "source": [
    "def print_path(g, path):\n",
    "    new_grid = g.grid.copy()\n",
    "    for i in range(g.height):\n",
    "        for j in range(g.width):\n",
    "            if (i, j) in path:\n",
    "                new_grid[i][j] = '*'\n",
    "            else:\n",
    "                new_grid[i][j] = g.grid[i][j]\n",
    "    for gr in new_grid:\n",
    "        print(*gr)\n",
    "\n",
    "\n",
    "path = make_path(goal)\n",
    "print_path(g, path)"
   ]
  },
  {
   "cell_type": "markdown",
   "metadata": {},
   "source": [
    "Now we will try our implementation on real map"
   ]
  },
  {
   "cell_type": "code",
   "execution_count": 106,
   "metadata": {},
   "outputs": [],
   "source": [
    "with open('./maps/1.txt', 'r') as file:\n",
    "    map1 = file.read()\n",
    "    \n",
    "map_grid = SquareGrid(512, 512) #make sure the dimensions match the drawn map\n",
    "map_grid.get_map(map1.translate({ ord(c): None for c in ' \\n\\t\\r' })) #remove all whitespaces, tabs etc. "
   ]
  },
  {
   "cell_type": "code",
   "execution_count": 107,
   "metadata": {},
   "outputs": [
    {
     "name": "stdout",
     "output_type": "stream",
     "text": [
      "Path has been found!\n",
      "CPU times: user 33 s, sys: 99.5 ms, total: 33.1 s\n",
      "Wall time: 33.2 s\n"
     ]
    }
   ],
   "source": [
    "%%time\n",
    "goal, CLOSE = search(map_grid, 510, 47, 10, 404)"
   ]
  },
  {
   "cell_type": "code",
   "execution_count": 108,
   "metadata": {},
   "outputs": [
    {
     "name": "stdout",
     "output_type": "stream",
     "text": [
      "Path's lenght (largest g-value in case path NOT found): 865.0\n",
      "Number of steps: 128770\n"
     ]
    }
   ],
   "source": [
    "#some valuable info\n",
    "print(\"Path's lenght (largest g-value in case path NOT found):\", goal.g)\n",
    "print(\"Number of steps:\", CLOSE.length())"
   ]
  },
  {
   "cell_type": "markdown",
   "metadata": {},
   "source": [
    "### Home work\n",
    "\n",
    "1. Look for 'HOMEWORK' comments and follow them\n",
    "2. Provide a short report (doc or pdf) on your experience with pathfinding with different heuristics and heuristics weight.\n"
   ]
  }
 ],
 "metadata": {
  "kernelspec": {
   "display_name": "Python 3",
   "language": "python",
   "name": "python3"
  },
  "language_info": {
   "codemirror_mode": {
    "name": "ipython",
    "version": 3
   },
   "file_extension": ".py",
   "mimetype": "text/x-python",
   "name": "python",
   "nbconvert_exporter": "python",
   "pygments_lexer": "ipython3",
   "version": "3.7.0"
  }
 },
 "nbformat": 4,
 "nbformat_minor": 2
}
