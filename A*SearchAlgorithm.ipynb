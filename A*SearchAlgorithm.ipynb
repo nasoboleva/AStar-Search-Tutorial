{
 "cells": [
  {
   "cell_type": "markdown",
   "metadata": {},
   "source": [
    "# Implementation of A* search algorithm on grid\n",
    "\n",
    "## Grid\n",
    "\n",
    "To approximate the shortest path in real-life situations, like in maps, games where there can be many hindrances.\n",
    "\n",
    "We can consider a 2D Grid having several obstacles and we start from a source cell (coloured red below) to reach towards a goal cell (coloured green below)\n",
    "\n",
    "<p align=\"center\">\n",
    "\t<img src=\"https://cdncontribute.geeksforgeeks.org/wp-content/uploads/a_-search-algorithm-1.png\" width=\"450\">\n",
    "</p>\n",
    "_Image source: https://cdncontribute.geeksforgeeks.org_\n"
   ]
  },
  {
   "cell_type": "code",
   "execution_count": 147,
   "metadata": {},
   "outputs": [],
   "source": [
    "class SquareGrid:\n",
    "    \"\"\"\n",
    "    SquareGrid class represents agent's environment\n",
    "    \"\"\"\n",
    "    def __init__(self, width, height):\n",
    "        self.width = width\n",
    "        self.height = height\n",
    "        self.grid = [[0 for _ in range(width)] for _ in range(height)]\n",
    "        \n",
    "    def get_map(self, input_map):\n",
    "        for i in range(self.height):\n",
    "            for j in range(self.width):\n",
    "                if input_map[i * self.width + j] == '#':\n",
    "                    self.grid[i][j] = 1\n",
    "    \n",
    "    def in_bounds(self, i, j):\n",
    "        return 0 <= j < self.width and 0 <= i < self.height\n",
    "    \n",
    "    def traversable(self, i, j):\n",
    "        if self.grid[i][j] == 0:\n",
    "            return True\n",
    "        return False\n",
    "    \n",
    "    def neighbors(self, i, j, diagonal=False, cutcorners=False, squeeze=False):\n",
    "        \"\"\"\n",
    "        function, that returns neighbor nodes to the current (i, j) according to the following paramenters:\n",
    "        diagonal: True, if diagonal moves are allowed\n",
    "        cutcorners: True, if your agent is allowed to cut corners\n",
    "        squeeze: True, if agent is also allowed to squeeze between obstacles\n",
    "        \"\"\"\n",
    "        neighbors = []\n",
    "        for di in range(-1, 2):\n",
    "            for dj in range(-1, 2):\n",
    "                if (di != 0 or dj != 0) and \\\n",
    "                    self.in_bounds(i + di, j + dj) and \\\n",
    "                    self.traversable(i + di, j + dj):\n",
    "                    if di != 0 and dj != 0:\n",
    "                        if not diagonal: continue\n",
    "                        elif not cutcorners:\n",
    "                            if not self.traversable(i, j + dj) or \\\n",
    "                               not self.traversable(i + di, j): continue\n",
    "                        elif not squeeze:\n",
    "                            if not self.traversable(i, j + dj) and \\\n",
    "                               not self.traversable(i + di, j): continue\n",
    "                    neighbors.append((i + di, j + dj))\n",
    "        return neighbors"
   ]
  },
  {
   "cell_type": "code",
   "execution_count": 148,
   "metadata": {
    "scrolled": true
   },
   "outputs": [
    {
     "name": "stdout",
     "output_type": "stream",
     "text": [
      "0 0 0 0 0 0 0 0 0 0 0 0 0 0 0 0 0 0 0 0 0 1 1 0 0 0 0 0 0 0\n",
      "0 0 0 0 0 0 0 0 0 0 0 0 0 0 0 0 0 0 0 0 0 1 1 0 0 0 0 0 0 0\n",
      "0 0 0 0 0 0 0 0 0 0 0 0 0 0 0 0 0 0 0 0 0 1 1 0 0 0 0 0 0 0\n",
      "0 0 0 1 1 0 0 0 0 0 0 0 0 0 0 0 0 0 0 0 0 1 1 0 0 0 0 0 0 0\n",
      "0 0 0 1 1 0 0 0 0 0 0 0 0 1 1 0 0 0 0 0 0 1 1 0 0 0 0 0 0 0\n",
      "0 0 0 1 1 0 0 0 0 0 0 0 0 1 1 0 0 0 0 0 0 1 1 1 1 1 0 0 0 0\n",
      "0 0 0 1 1 0 0 0 0 0 0 0 0 1 1 0 0 0 0 0 0 1 1 1 1 1 0 0 0 0\n",
      "0 0 0 1 1 0 0 0 0 0 0 0 0 1 1 0 0 0 0 0 0 0 0 0 0 0 0 0 0 0\n",
      "0 0 0 1 1 0 0 0 0 0 0 0 0 1 1 0 0 0 0 0 0 0 0 0 0 0 0 0 0 0\n",
      "0 0 0 1 1 0 0 0 0 0 0 0 0 1 1 0 0 0 0 0 0 0 0 0 0 0 0 0 0 0\n",
      "0 0 0 1 1 0 0 0 0 0 0 0 0 1 1 0 0 0 0 0 0 0 0 0 0 0 0 0 0 0\n",
      "0 0 0 1 1 0 0 0 0 0 0 0 0 1 1 0 0 0 0 0 0 0 0 0 0 0 0 0 0 0\n",
      "0 0 0 0 0 0 0 0 0 0 0 0 0 1 1 0 0 0 0 0 0 0 0 0 0 0 0 0 0 0\n",
      "0 0 0 0 0 0 0 0 0 0 0 0 0 1 1 0 0 0 0 0 0 0 0 0 0 0 0 0 0 0\n",
      "0 0 0 0 0 0 0 0 0 0 0 0 0 1 1 0 0 0 0 0 0 0 0 0 0 0 0 0 0 0\n"
     ]
    }
   ],
   "source": [
    "import numpy as np\n",
    "\n",
    "input_map = '''\n",
    ". . . . . . . . . . . . . . . . . . . . . # # . . . . . . . \n",
    ". . . . . . . . . . . . . . . . . . . . . # # . . . . . . . \n",
    ". . . . . . . . . . . . . . . . . . . . . # # . . . . . . . \n",
    ". . . # # . . . . . . . . . . . . . . . . # # . . . . . . . \n",
    ". . . # # . . . . . . . . # # . . . . . . # # . . . . . . . \n",
    ". . . # # . . . . . . . . # # . . . . . . # # # # # . . . . \n",
    ". . . # # . . . . . . . . # # . . . . . . # # # # # . . . . \n",
    ". . . # # . . . . . . . . # # . . . . . . . . . . . . . . . \n",
    ". . . # # . . . . . . . . # # . . . . . . . . . . . . . . . \n",
    ". . . # # . . . . . . . . # # . . . . . . . . . . . . . . . \n",
    ". . . # # . . . . . . . . # # . . . . . . . . . . . . . . . \n",
    ". . . # # . . . . . . . . # # . . . . . . . . . . . . . . . \n",
    ". . . . . . . . . . . . . # # . . . . . . . . . . . . . . . \n",
    ". . . . . . . . . . . . . # # . . . . . . . . . . . . . . . \n",
    ". . . . . . . . . . . . . # # . . . . . . . . . . . . . . . \n",
    "'''\n",
    "# for more maps look into maps_examples)\n",
    "\n",
    "g = SquareGrid(30, 15)\n",
    "g.get_map(input_map.translate({ ord(c): None for c in ' \\n\\t\\r' })) #reduce all unnecessary whitespaces \n",
    "for gr in g.grid:\n",
    "    print(*gr)"
   ]
  },
  {
   "cell_type": "markdown",
   "metadata": {},
   "source": [
    "## A* (A star)\n",
    "\n",
    "A* Search algorithm is one of the best and popular technique used in path-finding and graph traversals.\n",
    "\n",
    "A* is like [Dijkstra’s Algorithm](https://en.wikipedia.org/wiki/Dijkstra%27s_algorithm) in that it can be used to find a shortest path. A* is like [Greedy Best-First-Search](https://en.wikipedia.org/wiki/Best-first_search) in that it can use a _heuristic_ to guide itself.\n",
    "\n",
    "<img src=\"https://cdn-images-1.medium.com/max/2000/1*sbUuCeAb1EHgYBszGOXSWg.gif\" width=\"650\"> \n",
    "\n",
    "#### First let's define our search node class, which will contain all the information about the search node:\n",
    "\n",
    "- it's g and f values, \n",
    "- pointer to the node's parent."
   ]
  },
  {
   "cell_type": "code",
   "execution_count": 149,
   "metadata": {},
   "outputs": [],
   "source": [
    "import math\n",
    "\n",
    "class Node:\n",
    "    \"\"\"\n",
    "    Node class represents a search node\n",
    "    i, j: coordinates of the node on a square grid\n",
    "    g: it's g-values\n",
    "    h: the values of heuristic function\n",
    "    parent: pointer on the parent element \n",
    "    \"\"\"\n",
    "    def __init__(self, i, j, g=math.inf, h=math.inf, parent=None):\n",
    "        self.i = i\n",
    "        self.j = j\n",
    "        self.g = g\n",
    "        self.F = self.g + h\n",
    "        self.parent = parent"
   ]
  },
  {
   "cell_type": "markdown",
   "metadata": {},
   "source": [
    "#### Now let's define a class for our OPEN list\n",
    "We should be able to quickly exctract node with the minimum $F$ value and search for the node with the same $i$ and $j$ coordinates."
   ]
  },
  {
   "cell_type": "code",
   "execution_count": 168,
   "metadata": {},
   "outputs": [],
   "source": [
    "class OpenList:\n",
    "    \"\"\"\n",
    "    OpenList class represents a struct for efficient OPEN list representation\n",
    "    \"\"\"\n",
    "    def __init__(self, height):\n",
    "        self.elements = [[] for _ in range(height)]\n",
    "        self.size = 0\n",
    "    \n",
    "    def empty(self):\n",
    "        for elem in self.elements:\n",
    "            if len(elem) != 0:\n",
    "                return False\n",
    "        return True\n",
    "    \n",
    "    def get(self):\n",
    "        best_F = math.inf\n",
    "        best_coord = 0\n",
    "        for coord in range(len(self.elements)):\n",
    "            if len(self.elements[coord]) == 0:\n",
    "                continue\n",
    "            if self.elements[coord][0].F < best_F:\n",
    "                best_coord = coord\n",
    "                best_F = self.elements[coord][0].F\n",
    "                \n",
    "        # after we found the element with the lowest F value, we need to delete found element from OPEN list\n",
    "        best = self.elements[best_coord].pop(0)\n",
    "        # and return it\n",
    "        return best\n",
    "    \n",
    "    def put(self, item):\n",
    "        if len(self.elements[item.i]) == 0:\n",
    "            self.elements[item.i].append(item)\n",
    "            self.size += 1\n",
    "            return\n",
    "        position = 0\n",
    "        position_found = False\n",
    "        \n",
    "        #find the position on which to insert our new element\n",
    "        # meanwhile you should also look for the node with the same coordinates in the OPEN already\n",
    "        \n",
    "        for i in range(len(self.elements[item.i])):\n",
    "            if not position_found and self.elements[item.i][i].F >= item.F:\n",
    "                position = i\n",
    "                position_found = True\n",
    "                    \n",
    "            if self.elements[item.i][i].j == item.j:\n",
    "                if item.F >= self.elements[item.i][i].F:\n",
    "                    return\n",
    "                elif position == i:\n",
    "                    self.elements[item.i][i].F = item.F\n",
    "                    self.elements[item.i][i].g = item.g\n",
    "                    self.elements[item.i][i].parent = item.parent\n",
    "                    return\n",
    "                else:\n",
    "                    self.elements[item.i].pop(position)\n",
    "                    self.size -= 1\n",
    "                    break\n",
    "                    \n",
    "        self.size += 1           \n",
    "        self.elements[item.i].insert(position, item)\n",
    "        return"
   ]
  },
  {
   "cell_type": "markdown",
   "metadata": {},
   "source": [
    "### Heuristics for grid maps\n",
    "\n",
    "#### Manhattan distance\n",
    "\n",
    "   The heuristic on a square grid where you can move in 4 directions should be $\\alpha$ times the Manhattan distance:"
   ]
  },
  {
   "cell_type": "code",
   "execution_count": 169,
   "metadata": {},
   "outputs": [],
   "source": [
    "def manhattan_heuristic(a_i, a_j, b_i, b_j, alpha=1):\n",
    "    dx = abs(a_i - b_i)\n",
    "    dy = abs(a_j - b_j)\n",
    "    return alpha * (dx + dy)"
   ]
  },
  {
   "cell_type": "markdown",
   "metadata": {},
   "source": [
    "#### Diagonal distance\n",
    "\n",
    "   If your map allows diagonal movement you need a different heuristic. Here we compute the number of steps you take if you can’t take a diagonal, then subtract the steps you save by using the diagonal:"
   ]
  },
  {
   "cell_type": "code",
   "execution_count": 170,
   "metadata": {},
   "outputs": [],
   "source": [
    "def diagonal_heuristic(a_i, a_j, b_i, b_j, alpha=1, alpha_2=1):\n",
    "    dx = abs(a_i - b_i)\n",
    "    dy = abs(a_j - b_j)\n",
    "    return alpha * (dx + dy) + (alpha_2 - 2 * alpha) * min(dx, dy)"
   ]
  },
  {
   "cell_type": "markdown",
   "metadata": {},
   "source": [
    "When $\\alpha = 1$ and $\\alpha_2 = 1$, this is called the *Chebyshev distance*. When $\\alpha = 1$ and $\\alpha_2 = \\sqrt{2}$, this is called the *octile distance*.\n",
    "\n",
    "#### Euclidean distance\n",
    "\n",
    "If your units can move at any angle (instead of grid directions), then you should probably use a straight line distance:"
   ]
  },
  {
   "cell_type": "code",
   "execution_count": 171,
   "metadata": {},
   "outputs": [],
   "source": [
    "def euclidean_heuristic(a_i, a_j, b_i, b_j, alpha=1):\n",
    "    dx = abs(a_i - b_i)\n",
    "    dy = abs(a_j - b_j)\n",
    "    return alpha * math.sqrt(dx * dx + dy * dy)"
   ]
  },
  {
   "cell_type": "markdown",
   "metadata": {},
   "source": [
    "There is much more...\n",
    "\n",
    "__Let's start with A*__"
   ]
  },
  {
   "cell_type": "code",
   "execution_count": 172,
   "metadata": {},
   "outputs": [],
   "source": [
    "def calculate_heuristic(a_i, a_j, goal_i, goal_j, heuristic_type='euclid', alpha=1):\n",
    "    if heuristic_type == 'euclidean':\n",
    "        return euclidean_heuristic(a_i, a_j, goal_i, goal_j, alpha=alpha)\n",
    "    if heuristic_type == 'octile':\n",
    "        return diagonal_heuristic(a_i, a_j, goal_i, goal_j, alpha=alpha, alpha_2=math.sqrt(2))\n",
    "    if heuristic_type == 'chebyshev':\n",
    "        return diagonal_heuristic(a_i, a_j, goal_i, goal_j, alpha=alpha) \n",
    "    if heuristic_type == 'manhattan':\n",
    "        return manhattan_heuristic(a_i, a_j, goal_i, goal_j, alpha=alpha) \n",
    "    \n",
    "def calculate_cost(a_i, a_j, b_i, b_j):\n",
    "    return math.sqrt(abs(a_i - b_i) * abs(a_i - b_i) + abs(a_j - b_j) * abs(a_j - b_j))\n",
    "\n",
    "\n",
    "def search(grid, start_i, start_j, goal_i, goal_j,\n",
    "           heuristic_type='euclidean', \n",
    "           diagonal=False, \n",
    "           cutcorners=False, \n",
    "           squeeze=False):\n",
    "    \n",
    "    OPEN = OpenList(grid.height)\n",
    "    start_node = Node(start_i, start_j, 0, \n",
    "                      calculate_heuristic(start_i, start_j, goal_i, goal_j, heuristic_type))\n",
    "    OPEN.put(start_node)\n",
    "    CLOSE = dict()\n",
    "    \n",
    "    while not OPEN.empty():\n",
    "        current = OPEN.get()\n",
    "        CLOSE[current.i * grid.width + current.j] = current\n",
    "        \n",
    "        if current.i == goal_i and current.j == goal_j:\n",
    "            print(\"Path has been found!\")\n",
    "            return current, CLOSE\n",
    "        for (i, j) in grid.neighbors(current.i, current.j):\n",
    "            if i * grid.width + j not in CLOSE:\n",
    "                new_node = Node(i, j, current.g + calculate_cost(current.i, current.j, i, j), \n",
    "                                calculate_heuristic(i, j, goal_i, goal_j, heuristic_type),\n",
    "                                current)\n",
    "                OPEN.put(new_node)\n",
    "    \n",
    "    return current, CLOSE"
   ]
  },
  {
   "cell_type": "code",
   "execution_count": 174,
   "metadata": {},
   "outputs": [
    {
     "name": "stdout",
     "output_type": "stream",
     "text": [
      "Path has been found!\n",
      "CPU times: user 9.74 ms, sys: 800 µs, total: 10.5 ms\n",
      "Wall time: 10.6 ms\n"
     ]
    }
   ],
   "source": [
    "%%time\n",
    "\n",
    "g = SquareGrid(30, 15)\n",
    "g.get_map(input_map.translate({ ord(c):None for c in ' \\n\\t\\r' }))\n",
    "goal, CLOSE = search(g, 0, 0, 14, 29)"
   ]
  },
  {
   "cell_type": "code",
   "execution_count": 178,
   "metadata": {},
   "outputs": [
    {
     "name": "stdout",
     "output_type": "stream",
     "text": [
      "Found length of the path: 43.0\n"
     ]
    }
   ],
   "source": [
    "print(\"Found length of the path:\", goal.g)"
   ]
  },
  {
   "cell_type": "code",
   "execution_count": 179,
   "metadata": {},
   "outputs": [
    {
     "name": "stdout",
     "output_type": "stream",
     "text": [
      "Found path: (0, 0) (0, 1) (0, 2) (0, 3) (0, 4) (0, 5) (0, 6) (0, 7) (0, 8) (0, 9) (0, 10) (0, 11) (0, 12) (0, 13) (0, 14) (0, 15) (0, 16) (1, 16) (1, 17) (2, 17) (2, 18) (3, 18) (3, 19) (4, 19) (4, 20) (5, 20) (6, 20) (7, 20) (7, 21) (7, 22) (7, 23) (8, 23) (8, 24) (9, 24) (9, 25) (10, 25) (10, 26) (11, 26) (11, 27) (12, 27) (12, 28) (13, 28) (13, 29) (14, 29)\n"
     ]
    }
   ],
   "source": [
    "def make_path(goal):\n",
    "    current = goal\n",
    "    path = []\n",
    "    while current.parent:\n",
    "        path.append((current.i, current.j))\n",
    "        current = current.parent;\n",
    "    path.append((current.i, current.j))\n",
    "    return path[::-1]\n",
    "\n",
    "path = make_path(goal)\n",
    "print(\"Found path:\", *path)"
   ]
  },
  {
   "cell_type": "code",
   "execution_count": 180,
   "metadata": {},
   "outputs": [
    {
     "name": "stdout",
     "output_type": "stream",
     "text": [
      "* * * * * * * * * * * * * * * * * 0 0 0 0 1 1 0 0 0 0 0 0 0\n",
      "0 0 0 0 0 0 0 0 0 0 0 0 0 0 0 0 * * 0 0 0 1 1 0 0 0 0 0 0 0\n",
      "0 0 0 0 0 0 0 0 0 0 0 0 0 0 0 0 0 * * 0 0 1 1 0 0 0 0 0 0 0\n",
      "0 0 0 1 1 0 0 0 0 0 0 0 0 0 0 0 0 0 * * 0 1 1 0 0 0 0 0 0 0\n",
      "0 0 0 1 1 0 0 0 0 0 0 0 0 1 1 0 0 0 0 * * 1 1 0 0 0 0 0 0 0\n",
      "0 0 0 1 1 0 0 0 0 0 0 0 0 1 1 0 0 0 0 0 * 1 1 1 1 1 0 0 0 0\n",
      "0 0 0 1 1 0 0 0 0 0 0 0 0 1 1 0 0 0 0 0 * 1 1 1 1 1 0 0 0 0\n",
      "0 0 0 1 1 0 0 0 0 0 0 0 0 1 1 0 0 0 0 0 * * * * 0 0 0 0 0 0\n",
      "0 0 0 1 1 0 0 0 0 0 0 0 0 1 1 0 0 0 0 0 0 0 0 * * 0 0 0 0 0\n",
      "0 0 0 1 1 0 0 0 0 0 0 0 0 1 1 0 0 0 0 0 0 0 0 0 * * 0 0 0 0\n",
      "0 0 0 1 1 0 0 0 0 0 0 0 0 1 1 0 0 0 0 0 0 0 0 0 0 * * 0 0 0\n",
      "0 0 0 1 1 0 0 0 0 0 0 0 0 1 1 0 0 0 0 0 0 0 0 0 0 0 * * 0 0\n",
      "0 0 0 0 0 0 0 0 0 0 0 0 0 1 1 0 0 0 0 0 0 0 0 0 0 0 0 * * 0\n",
      "0 0 0 0 0 0 0 0 0 0 0 0 0 1 1 0 0 0 0 0 0 0 0 0 0 0 0 0 * *\n",
      "0 0 0 0 0 0 0 0 0 0 0 0 0 1 1 0 0 0 0 0 0 0 0 0 0 0 0 0 0 *\n"
     ]
    }
   ],
   "source": [
    "def print_path(g, path):\n",
    "    new_grid = g.grid.copy()\n",
    "    for i in range(g.height):\n",
    "        for j in range(g.width):\n",
    "            if (i, j) in path:\n",
    "                new_grid[i][j] = '*'\n",
    "            else:\n",
    "                new_grid[i][j] = g.grid[i][j]\n",
    "    for gr in new_grid:\n",
    "        print(*gr)\n",
    "\n",
    "\n",
    "path = make_path(goal)\n",
    "print_path(g, path)"
   ]
  },
  {
   "cell_type": "markdown",
   "metadata": {},
   "source": [
    "### Further work\n",
    "\n",
    "Feel free to experiment, calculating distances and execution time according to different allowed movements or different heuristics"
   ]
  }
 ],
 "metadata": {
  "kernelspec": {
   "display_name": "Python 3",
   "language": "python",
   "name": "python3"
  },
  "language_info": {
   "codemirror_mode": {
    "name": "ipython",
    "version": 3
   },
   "file_extension": ".py",
   "mimetype": "text/x-python",
   "name": "python",
   "nbconvert_exporter": "python",
   "pygments_lexer": "ipython3",
   "version": "3.6.5"
  }
 },
 "nbformat": 4,
 "nbformat_minor": 2
}
